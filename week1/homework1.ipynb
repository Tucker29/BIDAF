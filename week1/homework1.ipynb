{
 "cells": [
  {
   "cell_type": "code",
   "execution_count": 154,
   "metadata": {},
   "outputs": [],
   "source": [
    "import os\n",
    "import pandas as pd\n",
    "import numpy as np\n",
    "import collections\n",
    "import json\n",
    "from string import punctuation\n",
    "import jieba\n",
    "import re\n",
    "import nltk\n",
    "from nltk.stem import WordNetLemmatizer"
   ]
  },
  {
   "cell_type": "code",
   "execution_count": 198,
   "metadata": {},
   "outputs": [],
   "source": [
    "class Build_dict():\n",
    "    def __init__(self):\n",
    "        self.dict = {}\n",
    "        self.dir = ''\n",
    "        self.context = []\n",
    "        self.total_words = []\n",
    "        self.word_dict = {}\n",
    "        self.get_stopwords()\n",
    "    \n",
    "    def get_stopwords(self):\n",
    "        with open('ingetrated_stopwords.txt', 'r', encoding='utf8') as f:\n",
    "            self.stopwords = f.read().split('\\n')\n",
    "        \n",
    "    def read_json(self):\n",
    "        files = os.listdir(self.dir)\n",
    "        for file in files:\n",
    "            if file.endswith('.json'):\n",
    "                file_path = os.path.join(self.dir, file)\n",
    "                with open(file_path, 'r', encoding='utf8') as f:\n",
    "                    data = json.load(f)\n",
    "                    data = data['data'][0]['paragraphs']\n",
    "                    self.context = [item['context'] for item in data]\n",
    "                print(file + '已被读取。')\n",
    "                \n",
    "    def split_corpus(self):\n",
    "        print('分词工作具体处理')\n",
    "                \n",
    "    def build_dict(self):\n",
    "        self.word_dict = collections.Counter(self.total_words).most_common()\n",
    "        print('完成词典构建')\n",
    "    \n",
    "    def write_dict(self, path, data):\n",
    "        with open(path, 'w', encoding='utf8') as f:\n",
    "            for item in data:\n",
    "                f.write(item[0]+' '+str(item[1])+'\\n')\n",
    "            print('成功保存文件')\n",
    "                     \n",
    "        \n",
    "class Build_Squad(Build_dict):\n",
    "    def __init__(self):\n",
    "        super(Build_Squad, self).__init__()\n",
    "        self.dir = 'squad'\n",
    "        \n",
    "    def split_corpus(self):\n",
    "        lemmatizer = WordNetLemmatizer()\n",
    "        punctuations = punctuation + '~！？，。：；’‘“”【】、|（）——…… \\n\\t\\r'\n",
    "        for sentence in self.context:\n",
    "            sentence = re.sub('\\d+', '<NUM>', sentence)  #将数字换成特殊标记\n",
    "            self.total_words.extend([lemmatizer.lemmatize(word.strip(punctuations)) for word in sentence.lower().split(' ') if word not in self.stopwords])\n",
    "        print('完成分词')\n",
    "          \n",
    "    def process(self):\n",
    "        self.read_json()\n",
    "        self.split_corpus()\n",
    "        self.build_dict() \n",
    "        self.write_dict(self.dir+'.txt', self.word_dict) \n",
    "        \n",
    "class Build_dureader(Build_dict):\n",
    "    def __init__(self):\n",
    "        super(Build_dureader, self).__init__()\n",
    "        self.dir = 'dureader'\n",
    "        \n",
    "    def split_corpus(self):\n",
    "        punctuations = punctuation + '~！？，。：；’‘“”【】、|（）——…… \\n\\t\\r' \n",
    "        for sentence in self.context:\n",
    "            sentence = re.sub('\\d+', '<NUM>', sentence)  #将数字换成特殊标记\n",
    "            sentence = jieba.cut(sentence)\n",
    "            self.total_words.extend([word.strip().strip(punctuations) for word in sentence \n",
    "                                     if (word.strip(punctuations) and word not in self.stopwords)]) #防止去除符号后为空\n",
    "        print('完成分词')\n",
    "    \n",
    "    def process(self):\n",
    "        self.read_json()\n",
    "        self.split_corpus()\n",
    "        self.build_dict() \n",
    "        self.write_dict(self.dir+'.txt', self.word_dict) \n",
    "    "
   ]
  },
  {
   "cell_type": "code",
   "execution_count": 27,
   "metadata": {},
   "outputs": [
    {
     "name": "stdout",
     "output_type": "stream",
     "text": [
      "dev.json已被读取。\n",
      "train.json已被读取。\n",
      "完成分词\n",
      "完成词典构建\n",
      "成功保存文件\n"
     ]
    }
   ],
   "source": [
    "a = Build_dureader()\n",
    "a.process()"
   ]
  },
  {
   "cell_type": "code",
   "execution_count": 199,
   "metadata": {},
   "outputs": [
    {
     "name": "stdout",
     "output_type": "stream",
     "text": [
      "dev-v2.0.json已被读取。\n",
      "train-v2.0.json已被读取。\n",
      "完成分词\n",
      "完成词典构建\n",
      "成功保存文件\n"
     ]
    }
   ],
   "source": [
    "b = Build_Squad()\n",
    "b.process()"
   ]
  }
 ],
 "metadata": {
  "kernelspec": {
   "display_name": "Python 3",
   "language": "python",
   "name": "python3"
  },
  "language_info": {
   "codemirror_mode": {
    "name": "ipython",
    "version": 3
   },
   "file_extension": ".py",
   "mimetype": "text/x-python",
   "name": "python",
   "nbconvert_exporter": "python",
   "pygments_lexer": "ipython3",
   "version": "3.8.3"
  }
 },
 "nbformat": 4,
 "nbformat_minor": 4
}
